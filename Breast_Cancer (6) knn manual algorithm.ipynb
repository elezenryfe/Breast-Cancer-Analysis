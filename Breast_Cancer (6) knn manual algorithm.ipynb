{
 "cells": [
  {
   "cell_type": "code",
   "execution_count": 1,
   "metadata": {},
   "outputs": [],
   "source": [
    "%matplotlib inline\n",
    "import matplotlib\n",
    "import random as rd\n",
    "import numpy as np\n",
    "import pandas as pd\n",
    "import math as math\n",
    "import seaborn as sns\n",
    "import matplotlib.pyplot as plt\n",
    "df = pd.read_csv(r\"data - Copy.csv\",header = None)\n",
    "#Diag = df[\"Diagnosis\"]"
   ]
  },
  {
   "cell_type": "code",
   "execution_count": 2,
   "metadata": {},
   "outputs": [],
   "source": [
    "x = df.copy()\n",
    "del x[0]\n",
    "del x[1]\n",
    "#print(x)\n",
    "x = (x-x.mean())/(x.std())\n",
    "x = np.array(x)\n",
    "#print(x)\n",
    "\n",
    "store = []\n",
    "m = x.shape[0]\n",
    "n = x.shape[1]\n",
    "#print(m,n)"
   ]
  },
  {
   "cell_type": "code",
   "execution_count": 3,
   "metadata": {},
   "outputs": [],
   "source": [
    "n_iter = 20\n",
    "k = 2\n",
    "centroids = np.array([]).reshape(n,0)\n",
    "first = []\n",
    "second = []\n",
    "number = 200\n",
    "for i in range(k):\n",
    "    rand = rd.randint(0,m-1)\n",
    "    centroids = np.c_[centroids,x[number]]\n",
    "    store.append(number)\n",
    "    number = number + 100\n",
    "#    centroids = np.c_[centroids,x[i]]\n",
    "Output = {}\n",
    "for i in range(n_iter):\n",
    "     #step 2.a\n",
    "    EuclidianDistance=np.array([]).reshape(m,0)\n",
    "    for j in range(k):\n",
    "        tempDist=np.sum((x-centroids[:,j])**2,axis=1)\n",
    "        EuclidianDistance=np.c_[EuclidianDistance,tempDist]\n",
    "    C=np.argmin(EuclidianDistance,axis=1)+1\n",
    "\n",
    "     #step 2.b\n",
    "    Y={}\n",
    "    for j in range(k):\n",
    "        Y[j+1]=np.array([]).reshape(n,0)\n",
    "    for i in range(m):\n",
    "        Y[C[i]]=np.c_[Y[C[i]],x[i]]     \n",
    "    for l in range(k):\n",
    "        Y[l+1]=Y[l+1].T    \n",
    "    for u in range(k):\n",
    "        centroids[:,u]=np.mean(Y[u+1],axis=0)\n",
    "    Output=Y\n",
    "for i in range(len(C)):\n",
    "    if C[i] == 1:\n",
    "        first.append(x[i])\n",
    "    if C[i] == 2:\n",
    "        second.append(x[i])\n",
    "dij=np.sum((centroids[:,0]-centroids[:,1])**2)\n",
    "dij = np.round(math.sqrt(dij),3)\n",
    "#print(dij)\n",
    "first = np.array(first)\n",
    "second = np.array(second)\n",
    "#print(second)"
   ]
  },
  {
   "cell_type": "code",
   "execution_count": 4,
   "metadata": {},
   "outputs": [
    {
     "name": "stdout",
     "output_type": "stream",
     "text": [
      "5.755 3.747\n",
      "1.442\n",
      "initial centers: [200, 300]\n",
      "final centroids: (2, 30)\n"
     ]
    }
   ],
   "source": [
    "radius = np.round(np.sum((second-centroids[:,1])**2),3)\n",
    "radius = np.round(math.sqrt(radius/len(second)),3)\n",
    "radius2 = np.round(np.sum((first-centroids[:,0])**2),3)\n",
    "radius2 = np.round(math.sqrt(radius2/len(first)),3)\n",
    "print(radius, radius2)\n",
    "num = radius + radius2\n",
    "R_i = np.round(num/dij,3)\n",
    "print(R_i)\n",
    "#print(Output)\n",
    "print(\"initial centers:\", store)\n",
    "print('final centroids:', centroids.T.shape)\n",
    "#print(len(C))\n",
    "c=0\n",
    "for i in range(len(C)):\n",
    "    if C[i] == 2:\n",
    "        c=c+1\n",
    "#print(c)"
   ]
  },
  {
   "cell_type": "code",
   "execution_count": null,
   "metadata": {},
   "outputs": [],
   "source": []
  }
 ],
 "metadata": {
  "kernelspec": {
   "display_name": "Python 3",
   "language": "python",
   "name": "python3"
  },
  "language_info": {
   "codemirror_mode": {
    "name": "ipython",
    "version": 3
   },
   "file_extension": ".py",
   "mimetype": "text/x-python",
   "name": "python",
   "nbconvert_exporter": "python",
   "pygments_lexer": "ipython3",
   "version": "3.8.3"
  }
 },
 "nbformat": 4,
 "nbformat_minor": 4
}
