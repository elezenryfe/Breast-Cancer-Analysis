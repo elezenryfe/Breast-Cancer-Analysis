{
 "cells": [
  {
   "cell_type": "code",
   "execution_count": 1,
   "metadata": {},
   "outputs": [],
   "source": [
    "%matplotlib inline\n",
    "import matplotlib\n",
    "import random as rd\n",
    "import numpy as np\n",
    "import pandas as pd\n",
    "import math as math\n",
    "import seaborn as sns\n",
    "import matplotlib.pyplot as plt\n",
    "df = pd.read_csv(r\"data - Copy.csv\",header = None)\n",
    "x = df.copy()\n",
    "Diag = x[1]\n",
    "del x[0]\n",
    "del x[1]"
   ]
  },
  {
   "cell_type": "code",
   "execution_count": 2,
   "metadata": {},
   "outputs": [],
   "source": [
    "x = (x-x.mean())/(x.std())\n",
    "x = np.array(x)\n",
    "store = []\n",
    "m = x.shape[0]\n",
    "n = x.shape[1]\n",
    "n_iter = 20\n",
    "k = 5\n",
    "centroids = np.array([]).reshape(n,0)\n",
    "first = []\n",
    "second = []\n",
    "third = []\n",
    "fourth = []\n",
    "fifth = []\n",
    "numb = [352,212]\n",
    "number = 549\n",
    "for i in range(k):\n",
    "    rand = rd.randint(0,m-1)\n",
    "    centroids = np.c_[centroids,x[rand]]\n",
    "#    centroids = np.c_[centroids,x[number]]\n",
    "#    centroids = np.c_[centroids,x[numb[i]]]\n",
    "    store.append(rand)\n",
    "    number = number+1\n",
    "Output = {}\n",
    "for i in range(n_iter):\n",
    "    EuclidianDistance=np.array([]).reshape(m,0)\n",
    "    for j in range(k):\n",
    "        tempDist=np.sum((x-centroids[:,j])**2,axis=1)\n",
    "        EuclidianDistance=np.c_[EuclidianDistance,tempDist]\n",
    "    C=np.argmin(EuclidianDistance,axis=1)+1\n",
    "\n",
    "    Y={}\n",
    "    for j in range(k):\n",
    "        Y[j+1]=np.array([]).reshape(n,0)\n",
    "    for i in range(m):\n",
    "        Y[C[i]]=np.c_[Y[C[i]],x[i]]     \n",
    "    for l in range(k):\n",
    "        Y[l+1]=Y[l+1].T    \n",
    "    for u in range(k):\n",
    "        centroids[:,u]=np.mean(Y[u+1],axis=0)\n",
    "    Output=Y\n",
    "for i in range(len(C)):\n",
    "    if C[i] == 1:\n",
    "        first.append(x[i])\n",
    "    if C[i] == 2:\n",
    "        second.append(x[i])\n",
    "    if C[i] == 3:\n",
    "        third.append(x[i])\n",
    "    if C[i] == 4:\n",
    "        fourth.append(x[i])\n",
    "    if C[i] == 5:\n",
    "        fifth.append(x[i])\n",
    "first = np.array(first)\n",
    "second = np.array(second)\n",
    "third = np.array(third)\n",
    "fourth = np.array(fourth)\n",
    "fifth = np.array(fifth)\n",
    "x = pd.DataFrame(x)\n",
    "x[\"Diag\"] = Diag\n",
    "x[\"Cluster\"] = C\n",
    "grouped = x.groupby(x[\"Cluster\"])\n",
    "One = grouped.get_group(1)\n",
    "Two = grouped.get_group(2)\n",
    "if k > 2:\n",
    "    Three = grouped.get_group(3)\n",
    "    if k == 5:\n",
    "        Four = grouped.get_group(4)\n",
    "        Five = grouped.get_group(5)\n",
    "grouped = x.groupby(x[\"Diag\"])\n",
    "Malignant = grouped.get_group(\"M\")\n",
    "Benign = grouped.get_group(\"B\")"
   ]
  },
  {
   "cell_type": "code",
   "execution_count": 3,
   "metadata": {},
   "outputs": [
    {
     "name": "stdout",
     "output_type": "stream",
     "text": [
      "0.9209138840070299\n"
     ]
    }
   ],
   "source": [
    "#PURITY\n",
    "if k == 2:\n",
    "    print((max(One[\"Diag\"].value_counts())+max(Two[\"Diag\"].value_counts()))/569)\n",
    "if k == 3:\n",
    "    print((max(One[\"Diag\"].value_counts())+max(Two[\"Diag\"].value_counts())+max(Three[\"Diag\"].value_counts()))/569)\n",
    "if k == 5:\n",
    "    print((max(One[\"Diag\"].value_counts())+max(Two[\"Diag\"].value_counts())+max(Three[\"Diag\"].value_counts())+max(Four[\"Diag\"].value_counts())+max(Five[\"Diag\"].value_counts()))/569)"
   ]
  },
  {
   "cell_type": "code",
   "execution_count": null,
   "metadata": {},
   "outputs": [],
   "source": []
  }
 ],
 "metadata": {
  "kernelspec": {
   "display_name": "Python 3",
   "language": "python",
   "name": "python3"
  },
  "language_info": {
   "codemirror_mode": {
    "name": "ipython",
    "version": 3
   },
   "file_extension": ".py",
   "mimetype": "text/x-python",
   "name": "python",
   "nbconvert_exporter": "python",
   "pygments_lexer": "ipython3",
   "version": "3.8.3"
  }
 },
 "nbformat": 4,
 "nbformat_minor": 4
}
