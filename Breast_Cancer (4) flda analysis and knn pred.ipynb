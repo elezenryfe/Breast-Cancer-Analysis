{
 "cells": [
  {
   "cell_type": "code",
   "execution_count": 1,
   "metadata": {},
   "outputs": [],
   "source": [
    "%matplotlib inline\n",
    "import matplotlib\n",
    "import numpy as np\n",
    "import pandas as pd\n",
    "from sklearn import datasets\n",
    "\n",
    "# load dataset and transform to pandas df\n",
    "x1, y1 = datasets.load_breast_cancer(return_X_y=True)\n",
    "x1 = pd.DataFrame(x1, columns=[f'feat_{i}' for i in range(1,31)])\n",
    "y1 = pd.DataFrame(y1, columns=['Diagnosis'])\n",
    "\n",
    "columns = [\"ID Number\", \"Diagnosis\", \"Mean Radius\", \"Mean texture\", \"Mean perimeter\", \"Mean area\", \"Mean smoothness (local variation in radius lengths)\", \"Mean compactness (perimeter^2 / area - 1.0)\", \"Mean concavity (severity of concave portions of the contour)\", \"Mean concave points (number of concave portions of the contour)\", \"Mean symmetry\", \"Mean fractal dimension ('coastline approximation' - 1)\", \"SE radius\", \"SE texture\", \"SE perimeter\", \"SE area\", \"SE smoothness (local variation in radius lengths)\", \"SE compactness (perimeter^2 / area - 1.0)\", \"SE concavity (severity of concave portions of the contour)\", \"SE concave points (number of concave portions of the contour)\", \"SE symmetry\", \"SE fractal dimension ('coastline approximation' - 1)\", \"Worse radius\", \"Worse texture\", \"Worse perimeter\", \"Worse area\", \"Worse smoothness (local variation in radius lengths)\", \"Worse compactness (perimeter^2 / area - 1.0)\", \"Worse concavity (severity of concave portions of the contour)\", \"Worse concave points (number of concave portions of the contour)\", \"Worse symmetry\", \"Worse fractal dimension ('coastline approximation' - 1)\"]\n",
    "df = pd.read_csv(r\"data - Copy.csv\", index_col = False, names = columns)\n",
    "del df[\"ID Number\"]\n",
    "classby = df.groupby(df[\"Diagnosis\"])\n",
    "m = classby.get_group(\"M\")\n",
    "del m[\"Diagnosis\"]\n",
    "b = classby.get_group(\"B\")\n",
    "del b[\"Diagnosis\"]"
   ]
  },
  {
   "cell_type": "code",
   "execution_count": 2,
   "metadata": {},
   "outputs": [
    {
     "name": "stdout",
     "output_type": "stream",
     "text": [
      "(569, 30)\n",
      "            0  Diagnosis\n",
      "0   -0.159679          0\n",
      "1   -0.152098          0\n",
      "2   -0.166145          0\n",
      "3   -0.164152          0\n",
      "4   -0.151759          0\n",
      "..        ...        ...\n",
      "564 -0.172394          0\n",
      "565 -0.159236          0\n",
      "566 -0.141741          0\n",
      "567 -0.183787          0\n",
      "568 -0.098718          1\n",
      "\n",
      "[569 rows x 2 columns]\n"
     ]
    }
   ],
   "source": [
    "#Converting dataframes to matrices\n",
    "m = m.to_numpy()\n",
    "b = b.to_numpy()\n",
    "\n",
    "#reshaping to change the shape from (30,) to (30,1)\n",
    "mean_a = m.mean(axis=0).reshape(-1,1)\n",
    "mean_b = b.mean(axis=0).reshape(-1,1)\n",
    "\n",
    "#Calculating scatter within class for m and b\n",
    "Sw1 = np.cov(m.T)\n",
    "Sw2 = np.cov(b.T)\n",
    "Sw = Sw1 + Sw2\n",
    "inv_Sw = np.linalg.inv(Sw)\n",
    "\n",
    "#Calculating scatter between classes\n",
    "Sb = (mean_a-mean_b)*((mean_a-mean_b).T)\n",
    "\n",
    "#calculating eigen values and eigen vectors\n",
    "eig_vals, eig_vecs = np.linalg.eig(inv_Sw.dot(Sb))\n",
    "eig_vals = eig_vals.real #since both matrices are symmetric, imaginary values can be discarded\n",
    "eig_vecs = eig_vecs.real\n",
    "\n",
    "#List of eigen values and vectors\n",
    "eig_pairs = [(np.abs(eig_vals[i]), eig_vecs[:,i]) for i in range(len(eig_vals))]\n",
    "\n",
    "#Sorting in decreasing order\n",
    "eig_pairs = sorted(eig_pairs, key=lambda k: k[0], reverse=True)\n",
    "\n",
    "#converting to matrix\n",
    "x = x1.to_numpy()\n",
    "y = y1.to_numpy()\n",
    "\n",
    "#Maximising function\n",
    "W = np.hstack((eig_pairs[0][1].reshape(30,1))).reshape(30,1)\n",
    "print(x.shape)\n",
    "\n",
    "#Transforming the data\n",
    "x_flda = x.dot(W)\n",
    "#transformation along with the \"Diagnosis\" attribute\n",
    "flda = pd.concat([pd.DataFrame(x_flda, index=range(len(x_flda))), y1], 1)\n",
    "print(flda)\n",
    "#flda.to_csv(\"flda.csv\")"
   ]
  },
  {
   "cell_type": "code",
   "execution_count": 3,
   "metadata": {},
   "outputs": [
    {
     "name": "stdout",
     "output_type": "stream",
     "text": [
      "0.968365553602812\n"
     ]
    }
   ],
   "source": [
    "from sklearn.neighbors import KNeighborsClassifier\n",
    "classifier = KNeighborsClassifier(n_neighbors=3)\n",
    "from sklearn.model_selection import KFold\n",
    "from sklearn.model_selection import cross_val_score\n",
    "score = cross_val_score(classifier, X = x_flda, y = flda[\"Diagnosis\"], \n",
    "                        cv = KFold(x_flda.shape[0]))\n",
    "count = 0\n",
    "err = 0\n",
    "er = []\n",
    "for i in range (len(score)):\n",
    "    if score[i] == 1:\n",
    "        count = count + 1\n",
    "    if score[i] == 0:\n",
    "        err = err + 1\n",
    "        er.append(i)\n",
    "#print(er)\n",
    "print((count)/(err+count))"
   ]
  },
  {
   "cell_type": "code",
   "execution_count": null,
   "metadata": {},
   "outputs": [],
   "source": []
  }
 ],
 "metadata": {
  "kernelspec": {
   "display_name": "Python 3",
   "language": "python",
   "name": "python3"
  },
  "language_info": {
   "codemirror_mode": {
    "name": "ipython",
    "version": 3
   },
   "file_extension": ".py",
   "mimetype": "text/x-python",
   "name": "python",
   "nbconvert_exporter": "python",
   "pygments_lexer": "ipython3",
   "version": "3.8.3"
  }
 },
 "nbformat": 4,
 "nbformat_minor": 4
}
